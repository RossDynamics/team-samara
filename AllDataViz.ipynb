{
 "cells": [
  {
   "cell_type": "code",
   "execution_count": 1,
   "metadata": {},
   "outputs": [],
   "source": [
    "import pandas as pd\n",
    "import numpy as np\n",
    "import matplotlib.pyplot as plt"
   ]
  },
  {
   "cell_type": "markdown",
   "metadata": {},
   "source": [
    "## Samara Plots Notebook\n",
    "\n",
    "I just wanted to pull together some quick plots of the data into one place, so I'll do so inline here.\n",
    "\n",
    "First, I'll write down where the data is in this repository for my benefit.\n",
    "\n",
    "### Directory layout (data locations)\n",
    "\n",
    "* Density Study\n",
    "    * Samara Segment Mass.xlsx\n",
    "* DropStudy\n",
    "    * OutdoorDropData\n",
    "        * rawdataworkspace.mat\n",
    "        * 2017-04 Samara Drop Tests.xlsx\n",
    "        * weatherData.xlsx\n",
    "    * VideoScripts\n",
    "        * NorwayMapleData.csv\n",
    "        * RealMapleData.csv\n",
    "        * SilverMapleData.csv"
   ]
  },
  {
   "cell_type": "code",
   "execution_count": null,
   "metadata": {},
   "outputs": [],
   "source": []
  }
 ],
 "metadata": {
  "kernelspec": {
   "display_name": "Python 3",
   "language": "python",
   "name": "python3"
  },
  "language_info": {
   "codemirror_mode": {
    "name": "ipython",
    "version": 3
   },
   "file_extension": ".py",
   "mimetype": "text/x-python",
   "name": "python",
   "nbconvert_exporter": "python",
   "pygments_lexer": "ipython3",
   "version": "3.6.4"
  }
 },
 "nbformat": 4,
 "nbformat_minor": 2
}
